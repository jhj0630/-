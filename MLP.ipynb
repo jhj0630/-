{
 "cells": [
  {
   "cell_type": "code",
   "execution_count": null,
   "metadata": {
    "scrolled": false
   },
   "outputs": [],
   "source": [
    "import pandas as pd\n",
    "\n",
    "df = pd.read_csv(\"LEVX.csv\", index_col = 0)\n",
    "\n",
    "df"
   ]
  },
  {
   "cell_type": "code",
   "execution_count": null,
   "metadata": {},
   "outputs": [],
   "source": [
    "df['time'] = pd.to_datetime(df['time'])"
   ]
  },
  {
   "cell_type": "code",
   "execution_count": null,
   "metadata": {},
   "outputs": [],
   "source": [
    "df = df.drop(columns = ['wind_gust_o', 'visibility_o', 'skyc2_o', 'skyc3_o', 'skyl2_o', 'skyl3_o', 'wxcodes_o', 'metar_o', 'fr_o'], axis = 1)"
   ]
  },
  {
   "cell_type": "code",
   "execution_count": null,
   "metadata": {},
   "outputs": [],
   "source": [
    "df"
   ]
  },
  {
   "cell_type": "code",
   "execution_count": null,
   "metadata": {},
   "outputs": [],
   "source": [
    "df = df.drop(labels = range(114625,), axis = 0)"
   ]
  },
  {
   "cell_type": "code",
   "execution_count": null,
   "metadata": {},
   "outputs": [],
   "source": [
    "df"
   ]
  },
  {
   "cell_type": "code",
   "execution_count": null,
   "metadata": {},
   "outputs": [],
   "source": [
    "import numpy as np\n",
    "\n",
    "df = df.replace({'skyc1_o': 'NSC'}, {'skyc1_o': 0})\n",
    "df = df.replace({'skyc1_o': 'FEW'}, {'skyc1_o': 1.5})\n",
    "df = df.replace({'skyc1_o': 'SCT'}, {'skyc1_o': 3.5})\n",
    "df = df.replace({'skyc1_o': 'BKN'}, {'skyc1_o': 6})\n",
    "df = df.replace({'skyc1_o': 'OVC'}, {'skyc1_o': 8})\n",
    "df = df.replace({'skyc1_o': 'VV '}, {'skyc1_o': np.nan})\n",
    "df = df.replace({'skyc1_o': 'M'}, {'skyc1_o': np.nan})\n",
    "df = df.replace({'skyl1_o': 'M'}, {'skyl1_o': np.nan})"
   ]
  },
  {
   "cell_type": "code",
   "execution_count": null,
   "metadata": {},
   "outputs": [],
   "source": [
    "df"
   ]
  },
  {
   "cell_type": "code",
   "execution_count": null,
   "metadata": {},
   "outputs": [],
   "source": [
    "### 결측치 확인\n",
    "\n",
    "df.isnull().sum()"
   ]
  },
  {
   "cell_type": "code",
   "execution_count": null,
   "metadata": {},
   "outputs": [],
   "source": [
    "df.dropna(inplace = True)\n",
    "df.shape"
   ]
  },
  {
   "cell_type": "code",
   "execution_count": null,
   "metadata": {},
   "outputs": [],
   "source": [
    "df.isnull().sum()"
   ]
  },
  {
   "cell_type": "code",
   "execution_count": null,
   "metadata": {},
   "outputs": [],
   "source": [
    "### 정규화\n",
    "x = df.iloc[ : , 1:-1]\n",
    "y = df.iloc[ :, -1: ]\n",
    "\n",
    "from sklearn.preprocessing import MinMaxScaler\n",
    "\n",
    "scaler = MinMaxScaler()\n",
    "scaler.fit(x)\n",
    "x2 = scaler.transform(x)\n",
    "\n",
    "scaler2 = MinMaxScaler()\n",
    "scaler2.fit(y)\n",
    "y2_temp = scaler2.transform(y)\n",
    "y2 = y2_temp.reshape(len(y2_temp),)"
   ]
  },
  {
   "cell_type": "code",
   "execution_count": null,
   "metadata": {},
   "outputs": [],
   "source": [
    "### 훈련 데이터와 테스트 데이터 분리\n",
    "from sklearn.model_selection import train_test_split\n",
    "\n",
    "x_train, x_test, y_train, y_test = train_test_split(x2, y2, test_size = 0.2, random_state = 10)\n",
    "\n",
    "print(x_train.shape)  \n",
    "print(x_test.shape)   \n",
    "print(y_train.shape)  \n",
    "print(y_test.shape)  "
   ]
  },
  {
   "cell_type": "code",
   "execution_count": null,
   "metadata": {},
   "outputs": [],
   "source": [
    "### 모델 생성\n",
    "from sklearn.neural_network import MLPRegressor\n",
    "\n",
    "model = MLPRegressor(random_state=0)"
   ]
  },
  {
   "cell_type": "code",
   "execution_count": null,
   "metadata": {},
   "outputs": [],
   "source": [
    "### 모델 훈련\n",
    "model.fit(x_train, y_train)"
   ]
  },
  {
   "cell_type": "code",
   "execution_count": null,
   "metadata": {},
   "outputs": [],
   "source": [
    "### 모델 예측\n",
    "result = model.predict(x_test)\n",
    "result"
   ]
  },
  {
   "cell_type": "code",
   "execution_count": null,
   "metadata": {},
   "outputs": [],
   "source": [
    "train_result=model.fit(x_train, y_train).predict(x_train)   #훈련데이터에 대한 예측\n",
    "test_result=model.fit(x_train, y_train).predict(x_test)     #테스트데이터에 대한 예측"
   ]
  },
  {
   "cell_type": "code",
   "execution_count": null,
   "metadata": {},
   "outputs": [],
   "source": [
    "### 상관계수 값 확인\n",
    "import numpy as np\n",
    "\n",
    "print(np.corrcoef(y_train, train_result))  \n",
    "print(np.corrcoef(y_test, test_result))    \n"
   ]
  },
  {
   "cell_type": "code",
   "execution_count": null,
   "metadata": {},
   "outputs": [],
   "source": [
    "from matplotlib import font_manager, rc\n",
    "font_path = \"c:/Windows/Fonts/malgun.ttf\"\n",
    "font = font_manager.FontProperties(fname=font_path).get_name()\n",
    "font_name = font_manager.FontProperties(fname=\"c:/Windows/Fonts/malgun.ttf\").get_name()\n",
    "rc('font', family=font_name)\n",
    "\n",
    "import matplotlib.pyplot as plt\n",
    "\n",
    "fig=plt.figure()\n",
    "ax=fig.subplots()\n",
    "\n",
    "ax.plot(y_test, color='black', label='실제값')\n",
    "ax.plot(test_result, color='blue', label='예측값')\n",
    "\n",
    "ax.set_xlabel('날짜')\n",
    "ax.set_ylabel('구름 높이(정규화)')\n",
    "\n",
    "ax.legend(loc='best', frameon=False, fontsize = 10,bbox_to_anchor=(1, 1))"
   ]
  },
  {
   "cell_type": "code",
   "execution_count": null,
   "metadata": {
    "scrolled": true
   },
   "outputs": [],
   "source": [
    "fig2 = plt.figure()\n",
    "ax2 = fig2.subplots()\n",
    "\n",
    "ax2.plot(y_test[11800: ], color='black', label='실제값')  # 일부 발췌\n",
    "ax2.plot(test_result[11800:], color='blue', label='예측값')  # 일부 발췌\n",
    "ax2.set_xlabel('날짜')\n",
    "ax2.set_ylabel('구름 높이(정규화)')\n",
    "ax2.legend(loc='best', frameon=False, fontsize = 10,bbox_to_anchor=(1, 1))"
   ]
  },
  {
   "cell_type": "code",
   "execution_count": null,
   "metadata": {},
   "outputs": [],
   "source": []
  },
  {
   "cell_type": "code",
   "execution_count": null,
   "metadata": {},
   "outputs": [],
   "source": []
  },
  {
   "cell_type": "code",
   "execution_count": null,
   "metadata": {},
   "outputs": [],
   "source": []
  }
 ],
 "metadata": {
  "kernelspec": {
   "display_name": "Python 3",
   "language": "python",
   "name": "python3"
  },
  "language_info": {
   "codemirror_mode": {
    "name": "ipython",
    "version": 3
   },
   "file_extension": ".py",
   "mimetype": "text/x-python",
   "name": "python",
   "nbconvert_exporter": "python",
   "pygments_lexer": "ipython3",
   "version": "3.8.5"
  }
 },
 "nbformat": 4,
 "nbformat_minor": 4
}
